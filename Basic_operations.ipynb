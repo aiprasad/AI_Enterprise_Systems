{
  "nbformat": 4,
  "nbformat_minor": 0,
  "metadata": {
    "colab": {
      "name": "Basic_operations.ipynb",
      "provenance": [],
      "authorship_tag": "ABX9TyPWtwlcfVTw96tZeUs556LL",
      "include_colab_link": true
    },
    "kernelspec": {
      "name": "python3",
      "display_name": "Python 3"
    }
  },
  "cells": [
    {
      "cell_type": "markdown",
      "metadata": {
        "id": "view-in-github",
        "colab_type": "text"
      },
      "source": [
        "<a href=\"https://colab.research.google.com/github/aiprasad/AI_Enterprise_Systems/blob/master/Basic_operations.ipynb\" target=\"_parent\"><img src=\"https://colab.research.google.com/assets/colab-badge.svg\" alt=\"Open In Colab\"/></a>"
      ]
    },
    {
      "cell_type": "code",
      "metadata": {
        "id": "K8tQPoEi4S_5",
        "colab_type": "code",
        "colab": {
          "base_uri": "https://localhost:8080/",
          "height": 84
        },
        "outputId": "ac28370f-5460-4cf4-8d32-334d7ee874a2"
      },
      "source": [
        "x=5\n",
        "y=3\n",
        "z1 = x+y\n",
        "z2 = x-y\n",
        "z3 = x*y\n",
        "z4 = x/y\n",
        "print ('Sum of x and y is ',z1)\n",
        "print ('Difference of x and y is ',z2)\n",
        "print ('Product of x and y is ',z3)\n",
        "print ('Value of x divided by y is ',z4)\n"
      ],
      "execution_count": 1,
      "outputs": [
        {
          "output_type": "stream",
          "text": [
            "Sum of x and y is  8\n",
            "Difference of x and y is  2\n",
            "Product of x and y is  15\n",
            "Value of x divided by y is  1.6666666666666667\n"
          ],
          "name": "stdout"
        }
      ]
    }
  ]
}